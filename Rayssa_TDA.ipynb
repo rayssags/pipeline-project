{
 "cells": [
  {
   "cell_type": "markdown",
   "metadata": {},
   "source": [
    "# Projeto de pipeline"
   ]
  },
  {
   "cell_type": "code",
   "execution_count": 3,
   "metadata": {},
   "outputs": [
    {
     "name": "stdout",
     "output_type": "stream",
     "text": [
      "Help on module pipe_functions:\n",
      "\n",
      "NAME\n",
      "    pipe_functions\n",
      "\n",
      "DESCRIPTION\n",
      "    Módulo com funções para a crição de um pipeline básico de redução de dados\n",
      "    astronômicos em Python. Faz parte da avaliação da disciplina Tratamento de\n",
      "    Dados Astronômicos do curso de Astronomia do Observatório do Valongo\n",
      "    da Universidade Federal do Rio de Janeiro.\n",
      "    \n",
      "    Feito por Rayssa Guimarães para Python 3.7.\n",
      "    \n",
      "    Pacotes necessários:\n",
      "    os\n",
      "    glob\n",
      "    shutil\n",
      "    itertools\n",
      "    astropy >= 3.1.2\n",
      "    pandas >= 0.24.2\n",
      "    tqdm >= 4.31.1\n",
      "    numpy >= 1.16.2\n",
      "    inquirer >= 2.6.3\n",
      "    \n",
      "    Só pode ser executado em terminais interativos\n",
      "\n",
      "FUNCTIONS\n",
      "    agrupar_arquivos(arquivo_fits, arquivo_auxiliar)\n",
      "        Essa função adicona as informações relevantes do header de um arquivo\n",
      "        fits a um dataframe.\n",
      "        \n",
      "        Args:\n",
      "        arquivo_fits (str): Arquivo fits que terá as informações adicionadas ao\n",
      "        arquivo auxiliar.\n",
      "        arquivo_auxiliar (str): Caminho do dataframe onde as informações ficarão\n",
      "        salvas.\n",
      "        \n",
      "        Returns:\n",
      "        arquivo_auxiliar (str)\n",
      "    \n",
      "    criar_arquivo_auxiliar()\n",
      "        Cria um dataframe com todas as informações relevantes\n",
      "        dos headers dos arquivos fits dentro de um diretório e as\n",
      "        adiciona ao arquivo auxiliar.\n",
      "        \n",
      "        Args:\n",
      "        diretorio_arquivos (str): Caminho para os diretório dos arquivos fits brutos.\n",
      "        O default é o diretório onde o código está sendo rodado.\n",
      "    \n",
      "    imagens_ciencia(salvar=True, combinar=True)\n",
      "        Essa função corrige e salva cada uma das imagens de ciência -- imagens\n",
      "        que tem a classificação `XO-2b` no arquivo auxiliar.\n",
      "        As imagens são subtraídas de bias e divididas pelo flat.\n",
      "        \n",
      "        Args:\n",
      "        salvar (bool): Salvar imagens corrigidas individuais.\n",
      "        combinar (bool): Salvar imagem final combinada.\n",
      "    \n",
      "    limpar()\n",
      "        Essa função deleta o diretório de arquivos temporários.\n",
      "    \n",
      "    master_bias()\n",
      "        Essa função cria um master bias com todos os arquivos fits que tem a\n",
      "        classificação `zero` no arquivo auxiliar\n",
      "        Esses arquivos são combinados através da mediana.\n",
      "    \n",
      "    master_flat()\n",
      "        Essa função cria um master flat com todos os arquivos fits que tem a\n",
      "        classificação `flat` no arquivo auxiliar.\n",
      "        Os arquivos de flat são corrigidos pelo master bias, depois combinados pela\n",
      "        mediana e por fim são normalizados pela média.\n",
      "    \n",
      "    run_pipeline(salvar_imagens=True, manter_temp=False)\n",
      "        Essa função executa um pipeline.\n",
      "        \n",
      "        Args:\n",
      "        salvar_imagens (bool): Salvar imagens de ciência individuais. O default é True\n",
      "        manter_temp (bool): Manter arquivos temporários. O default é False.\n",
      "\n",
      "DATA\n",
      "    arquivo_auxiliar = '/home/rayssa/Rayssa_TDA/temp/informacao_headers.cs...\n",
      "    diretorio_atual = '/home/rayssa/Rayssa_TDA'\n",
      "    diretorio_output = '/home/rayssa/Rayssa_TDA/output'\n",
      "    diretorio_temporario = '/home/rayssa/Rayssa_TDA/temp'\n",
      "    master_bias_caminho = '/home/rayssa/Rayssa_TDA/temp/masterbias.fits'\n",
      "\n",
      "FILE\n",
      "    /home/rayssa/Rayssa_TDA/pipe_functions.py\n",
      "\n",
      "\n"
     ]
    }
   ],
   "source": [
    "import pipe_functions as pipe\n",
    "help(pipe)"
   ]
  },
  {
   "cell_type": "markdown",
   "metadata": {},
   "source": [
    "<img src=\"HowToRun.png\">"
   ]
  },
  {
   "cell_type": "code",
   "execution_count": 5,
   "metadata": {},
   "outputs": [],
   "source": [
    "import numpy as np\n",
    "import matplotlib.pyplot as plt "
   ]
  },
  {
   "cell_type": "markdown",
   "metadata": {},
   "source": [
    "# Machine learning\n",
    "\n",
    "## Criação de dados sintéticos"
   ]
  },
  {
   "cell_type": "code",
   "execution_count": 6,
   "metadata": {},
   "outputs": [
    {
     "data": {
      "image/png": "[encoded data removed]",
      "text/plain": [
       "<Figure size 432x288 with 1 Axes>"
      ]
     },
     "metadata": {
      "needs_background": "light"
     },
     "output_type": "display_data"
    }
   ],
   "source": [
    "def dm(A, t, t1, s1, B, t2, s2): return 1 - A*np.exp(-(t-t1)**2/(s1**2)) - B*np.exp(-(t-t2)**2/s2**2)\n",
    "\n",
    "T, M = np.linspace(-0.2,1.2,1000), dm(A=1.5, t=np.linspace(-0.2,1.2, 1000), t1=0.3, t2=0.7, B = 1, s1 = 0.1, s2 = 0.10)\n",
    "\n",
    "R = np.random.normal(M, 0.1) \n",
    "\n",
    "plt.scatter(T, R, color='blue', s=2, label='dados sintéticos')\n",
    "plt.plot(T,M, color='red', label='modelo')\n",
    "plt.legend()\n",
    "plt.show()"
   ]
  },
  {
   "cell_type": "markdown",
   "metadata": {},
   "source": [
    "# Monte Carlo\n",
    "\n",
    "## Cálculo de $\\pi$"
   ]
  },
  {
   "cell_type": "code",
   "execution_count": 7,
   "metadata": {
    "scrolled": true
   },
   "outputs": [
    {
     "name": "stdout",
     "output_type": "stream",
     "text": [
      "[3.2, 3.138, 3.136, 3.13872, 3.1431, 3.141604]\n"
     ]
    },
    {
     "data": {
      "image/png": "[encoded data removed]",
      "text/plain": [
       "<Figure size 432x288 with 1 Axes>"
      ]
     },
     "metadata": {
      "needs_background": "light"
     },
     "output_type": "display_data"
    }
   ],
   "source": [
    "n = [1000, 10000, 10000, 100000, 1000000, 10000000]\n",
    "\n",
    "def pi(n):\n",
    "    Area_quadrado = 1/4\n",
    "    R = 1\n",
    "    x_sample = np.random.uniform(0,1, n)\n",
    "    y_sample = np.random.uniform(0,1, n)\n",
    "\n",
    "    def n_dentro(x, y):\n",
    "        R = 1\n",
    "        n_int = 0\n",
    "        y_calc = np.sqrt(R**2 - x**2)\n",
    "        if x > 0 and x <= 1:\n",
    "            if y < y_calc:\n",
    "                n_int = 1\n",
    "        return n_int\n",
    "\n",
    "    n_int = sum(list(map(n_dentro, x_sample, y_sample)))\n",
    "\n",
    "    Area_quadrante = n_int/len(x_sample)\n",
    "\n",
    "    pi = (4*Area_quadrante)/(R**2)\n",
    "    return pi\n",
    "\n",
    "resposta = [pi(i) for i in n]\n",
    "print(resposta)\n",
    "plt.plot(n, resposta)\n",
    "plt.show()"
   ]
  },
  {
   "cell_type": "markdown",
   "metadata": {},
   "source": [
    "## Cálculo de $\\int\\limits_0^4 \\dfrac{1}{x^2 + 1}\\, dx$"
   ]
  },
  {
   "cell_type": "code",
   "execution_count": 8,
   "metadata": {},
   "outputs": [
    {
     "name": "stdout",
     "output_type": "stream",
     "text": [
      "[1.324, 1.314, 1.35, 1.31436, 1.326696, 1.3257156]\n"
     ]
    },
    {
     "data": {
      "image/png": "[encoded data removed]",
      "text/plain": [
       "<Figure size 432x288 with 1 Axes>"
      ]
     },
     "metadata": {
      "needs_background": "light"
     },
     "output_type": "display_data"
    }
   ],
   "source": [
    "n = [1000, 10000, 10000, 100000, 1000000, 10000000]\n",
    "\n",
    "def integral(n):\n",
    "    x_min = 0\n",
    "    x_max = 4\n",
    "\n",
    "    y_max = 1\n",
    "\n",
    "    x_sample = np.random.uniform(x_min,x_max, n)\n",
    "    y_sample = np.random.uniform(0,y_max, n)\n",
    "\n",
    "\n",
    "    def n_dentro(x, y):\n",
    "        y_calc = 1/(x**2 + 1)\n",
    "        n_int = 0\n",
    "        if y < y_calc:\n",
    "            n_int = 1\n",
    "        return n_int\n",
    "\n",
    "    n_int = sum(list(map(n_dentro, x_sample, y_sample)))\n",
    "\n",
    "    I = (x_max-x_min)*y_max*n_int/len(x_sample)\n",
    "    return I\n",
    "\n",
    "resposta = [integral(i) for i in n]\n",
    "print(resposta)\n",
    "plt.plot(n, resposta)\n",
    "plt.show()"
   ]
  },
  {
   "cell_type": "code",
   "execution_count": null,
   "metadata": {},
   "outputs": [],
   "source": []
  }
 ],
 "metadata": {
  "kernelspec": {
   "display_name": "Python 3",
   "language": "python",
   "name": "python3"
  },
  "language_info": {
   "codemirror_mode": {
    "name": "ipython",
    "version": 3
   },
   "file_extension": ".py",
   "mimetype": "text/x-python",
   "name": "python",
   "nbconvert_exporter": "python",
   "pygments_lexer": "ipython3",
   "version": "3.7.2"
  }
 },
 "nbformat": 4,
 "nbformat_minor": 2
}
